{
 "cells": [
  {
   "cell_type": "markdown",
   "metadata": {},
   "source": [
    "# Image Reshaping Assignment\n",
    "\n",
    "# Mohsin Ahmed\n",
    "\n",
    "# AIC-035346\n",
    "\n",
    "# SAIMS - 1:15 to 5:15"
   ]
  },
  {
   "cell_type": "code",
   "execution_count": 2,
   "metadata": {},
   "outputs": [
    {
     "name": "stdout",
     "output_type": "stream",
     "text": [
      "['Images\\\\1136137441_1024x768_3d-abstract-desktop-wallpaper-download-8.jpg', 'Images\\\\2124712.jpg', 'Images\\\\869496-16.jpg', 'Images\\\\90384ec915f3240a53d821c1cbab15fb-15.jpg', 'Images\\\\abstract-dynamic-pattern-wallpaper-vector_53876-59131-4.jpg', 'Images\\\\download-5.jfif', 'Images\\\\download-hd-wallpaper-hd-for-mobile-3D-20.jpg', 'Images\\\\images-10.jfif', 'Images\\\\images-11.jfif', 'Images\\\\images-13.jfif', 'Images\\\\images-14.jfif', 'Images\\\\images-17.jfif', 'Images\\\\images-18.jfif', 'Images\\\\images-19.jfif', 'Images\\\\japanese-cherry-trees-324175__340-3.jpg', 'Images\\\\NatureWallpaperHDFreeDownload-6.jpg', 'Images\\\\photo-1492684223066-81342ee5ff30-9.jfif', 'Images\\\\photo-1541727687969-ce40493cd847-2.jfif', 'Images\\\\Rose-new-wallpaper-hd-download-7.jpg', 'Images\\\\wp2646303-1.jpg']\n",
      "(1, 200, 200, 3)\n",
      "(20, 200, 200, 3)\n"
     ]
    }
   ],
   "source": [
    "import glob\n",
    "import numpy as np\n",
    "from PIL import Image\n",
    "import cv2\n",
    "\n",
    "z = np.zeros((20, 200, 200, 3))\n",
    "filelist = glob.glob('Images/*')\n",
    "print(filelist)\n",
    "for i in filelist:\n",
    "    x = np.array(Image.open(i))\n",
    "    y = cv2.resize(x, (200, 200))\n",
    "    other_dim = y[np.newaxis,:]\n",
    "    final_array = z + other_dim\n",
    "print(other_dim.shape)\n",
    "print(final_array.shape)"
   ]
  }
 ],
 "metadata": {
  "kernelspec": {
   "display_name": "Python 3",
   "language": "python",
   "name": "python3"
  },
  "language_info": {
   "codemirror_mode": {
    "name": "ipython",
    "version": 3
   },
   "file_extension": ".py",
   "mimetype": "text/x-python",
   "name": "python",
   "nbconvert_exporter": "python",
   "pygments_lexer": "ipython3",
   "version": "3.7.3"
  }
 },
 "nbformat": 4,
 "nbformat_minor": 2
}
